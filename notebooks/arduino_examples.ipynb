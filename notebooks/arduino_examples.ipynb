{
 "cells": [
  {
   "cell_type": "markdown",
   "metadata": {},
   "source": [
    "# Using Arduino from Python\n",
    "\n",
    "Traditionally, using Arduino device requires using the Arduino IDE. However, using the [Open-Source Python-Arduino Command API](https://github.com/drichmond/Python-Arduino-Command-API/tree/py3.6_fix), we interact with the Arduino in Jupyter Notebooks. We use a modified version that works with Python 3.6: https://github.com/drichmond/Python-Arduino-Command-API\n",
    "\n",
    "First, we need to upload a sketch that will interact with Python to the Arduino device. We can do this using the makefile provided in this directory:"
   ]
  },
  {
   "cell_type": "code",
   "execution_count": 1,
   "metadata": {},
   "outputs": [
    {
     "name": "stdout",
     "output_type": "stream",
     "text": [
      "prototype.ino: In function ‘void SS_set(String)’:\n",
      "prototype.ino:189:10: warning: deleting object of polymorphic class type ‘SoftwareSerial’ which has non-virtual destructor might cause undefined behaviour [-Wdelete-non-virtual-dtor]\n",
      "   delete sserial;\n",
      "          ^\n",
      "/usr/share/arduino/hardware/arduino//cores/arduino/HardwareSerial.cpp: In function ‘void store_char(unsigned char, ring_buffer*)’:\n",
      "/usr/share/arduino/hardware/arduino//cores/arduino/HardwareSerial.cpp:100:9: warning: comparison between signed and unsigned integer expressions [-Wsign-compare]\n",
      "   if (i != buffer->tail) {\n",
      "         ^\n",
      "/usr/share/arduino/hardware/arduino//cores/arduino/HardwareSerial.cpp: In function ‘void __vector_18()’:\n",
      "/usr/share/arduino/hardware/arduino//cores/arduino/HardwareSerial.cpp:129:21: warning: unused variable ‘c’ [-Wunused-variable]\n",
      "       unsigned char c = UDR0;\n",
      "                     ^\n",
      "/usr/share/arduino/hardware/arduino//cores/arduino/HardwareSerial.cpp: In member function ‘void HardwareSerial::begin(long unsigned int, byte)’:\n",
      "/usr/share/arduino/hardware/arduino//cores/arduino/HardwareSerial.cpp:370:11: warning: unused variable ‘current_config’ [-Wunused-variable]\n",
      "   uint8_t current_config;\n",
      "           ^\n",
      "/usr/share/arduino/hardware/arduino//cores/arduino/HardwareSerial.cpp: In member function ‘virtual size_t HardwareSerial::write(uint8_t)’:\n",
      "/usr/share/arduino/hardware/arduino//cores/arduino/HardwareSerial.cpp:469:12: warning: comparison between signed and unsigned integer expressions [-Wsign-compare]\n",
      "   while (i == _tx_buffer->tail)\n",
      "            ^\n",
      "\n",
      "avrdude: AVR device initialized and ready to accept instructions\n",
      "avrdude: Device signature = 0x1e950f (probably m328p)\n",
      "avrdude: reading input file \"build-uno/sensors96b.hex\"\n",
      "avrdude: writing flash (17992 bytes):\n",
      "avrdude: 17992 bytes of flash written\n",
      "\n",
      "avrdude: safemode: Fuses OK (E:00, H:00, L:00)\n",
      "\n",
      "avrdude done.  Thank you.\n",
      "\n"
     ]
    }
   ],
   "source": [
    "!make clean upload 1> /dev/null"
   ]
  },
  {
   "cell_type": "markdown",
   "metadata": {},
   "source": [
    "# Initialization\n",
    "Test that your design has uploaded by running the following cell:"
   ]
  },
  {
   "cell_type": "code",
   "execution_count": 2,
   "metadata": {
    "collapsed": true
   },
   "outputs": [],
   "source": [
    "from Arduino import Arduino\n",
    "import time\n",
    "board = Arduino('9600', port=\"/dev/tty96B0\")"
   ]
  },
  {
   "cell_type": "markdown",
   "metadata": {
    "collapsed": true
   },
   "source": [
    "# Writing Digital Pins\n",
    "\n",
    "Now that the sketch has been uploaded, we will run through a few examples. \n",
    "\n",
    "For this example, please connect a Grove LED Module to the Grove Port labeled D3 on the Sensors Mezzanine Card. "
   ]
  },
  {
   "cell_type": "code",
   "execution_count": 3,
   "metadata": {
    "collapsed": true
   },
   "outputs": [],
   "source": [
    "board.pinMode(3, \"OUTPUT\")\n",
    "\n",
    "for i in range(5):\n",
    "    board.digitalWrite(3, \"LOW\")\n",
    "    time.sleep(1)\n",
    "    board.digitalWrite(3, \"HIGH\")\n",
    "    time.sleep(1)"
   ]
  },
  {
   "cell_type": "markdown",
   "metadata": {},
   "source": [
    "# Reading Digital Pins\n",
    "\n",
    "In the following example, we read and report the button status 10 times, pausing 1 second between each read. Please attach the Grove Button Module to the Grove Port labeled D4"
   ]
  },
  {
   "cell_type": "code",
   "execution_count": 4,
   "metadata": {},
   "outputs": [
    {
     "name": "stdout",
     "output_type": "stream",
     "text": [
      "The BUTTON level is: 0\n",
      "The BUTTON level is: 0\n",
      "The BUTTON level is: 0\n",
      "The BUTTON level is: 0\n",
      "The BUTTON level is: 1\n",
      "The BUTTON level is: 1\n",
      "The BUTTON level is: 1\n",
      "The BUTTON level is: 1\n",
      "The BUTTON level is: 1\n",
      "The BUTTON level is: 1\n"
     ]
    }
   ],
   "source": [
    "board.pinMode(4, \"INPUT\")\n",
    "\n",
    "for i in range(10):\n",
    "    level = board.digitalRead(4)\n",
    "    print(f\"The BUTTON level is: {level}\")\n",
    "    time.sleep(1)"
   ]
  },
  {
   "cell_type": "markdown",
   "metadata": {},
   "source": [
    "# Playing Melodies\n",
    "\n",
    "In the following example, we will use the Grove Buzzer Module to play a simple melody. \n",
    "The following notes a supported on the board. \n",
    "\n",
    "\n",
    "|Octave \\ Note| B | C | C#| D | D # | E | F | F# | G | G# | A | A # |\n",
    "|--|--|--|---|--|---|--|--|---|--|---|--|---|\n",
    "| 1|B0|C1|CS1|D1|DS1|E1|F1|FS1|G1|GS1|A1|AS1|\n",
    "| 2|B1|C2|CS2|D2|DS2|E2|F2|FS2|G2|GS2|A2|AS2|\n",
    "| 3|B2|C3|CS3|D3|DS3|E3|F3|FS3|G3|GS3|A3|AS3|\n",
    "| 4|B3|C4|CS4|D4|DS4|E4|F4|FS4|G4|GS4|A4|AS4|\n",
    "| 5|B4|C5|CS5|D5|DS5|E5|F5|FS5|G5|GS5|A5|AS5|\n",
    "| 6|B5|C6|CS6|D6|DS6|E6|F6|FS6|G6|GS6|A6|AS6|\n",
    "| 7|B7|C7|CS7|D7|DS7|E7|F7|FS7|G7|GS7|A7|AS7|\n",
    "| 8|B8|C8|CS8|D8|DS8|  |  |   |  |   |  |   |\n",
    "\n",
    "\n",
    "If you need a custom frequency, you can enter it like the 0 shown in the example. \n",
    "\n",
    "For this example. please connect the Grove Buzzer to the connector labeled D5. See if you can recognize the simple tune below:"
   ]
  },
  {
   "cell_type": "code",
   "execution_count": 5,
   "metadata": {
    "collapsed": true
   },
   "outputs": [],
   "source": [
    "board.Melody(5,[\"C6\",\"G5\",\"G5\",\"A5\",\"G5\",0,\"B5\",\"C6\"],\n",
    "                                                [4,8,8,4,4,4,4,4])"
   ]
  },
  {
   "cell_type": "markdown",
   "metadata": {},
   "source": [
    "# Reading Capacitance\n",
    "\n",
    "Reading capacitance is useful when a light or no touch is expected. In the following example we read the capacitance of the Grove Touch Module attached to the Grove Connector labeled D6"
   ]
  },
  {
   "cell_type": "code",
   "execution_count": 6,
   "metadata": {},
   "outputs": [
    {
     "name": "stdout",
     "output_type": "stream",
     "text": [
      "The Cap Pin level is: 17\n",
      "The Cap Pin level is: 17\n",
      "The Cap Pin level is: 0\n",
      "The Cap Pin level is: 0\n",
      "The Cap Pin level is: 17\n",
      "The Cap Pin level is: 17\n",
      "The Cap Pin level is: 17\n",
      "The Cap Pin level is: 17\n",
      "The Cap Pin level is: 17\n",
      "The Cap Pin level is: 17\n"
     ]
    }
   ],
   "source": [
    "for i in range(10):\n",
    "    level = board.capacitivePin(6)\n",
    "    print(f\"The Cap Pin level is: {level}\")\n",
    "    time.sleep(1)"
   ]
  },
  {
   "cell_type": "markdown",
   "metadata": {},
   "source": [
    "# Driving a Servo Motor\n",
    "\n",
    "In the following example we oscilate the angle of a Grove Servo Motor attahced to the Grove Connector labeled D7. The servo included in your kit has a range of about 180 degrees\n",
    "\n"
   ]
  },
  {
   "cell_type": "code",
   "execution_count": 7,
   "metadata": {},
   "outputs": [],
   "source": [
    "board.Servos.attach(7)\n",
    "\n",
    "for i in range(0, 180):\n",
    "    board.Servos.write(7, i)\n",
    "    \n",
    "board.Servos.detach(7)"
   ]
  },
  {
   "cell_type": "markdown",
   "metadata": {},
   "source": [
    "After the servo has finished it is important to detatch the servo using the detach command."
   ]
  },
  {
   "cell_type": "markdown",
   "metadata": {},
   "source": [
    "# Reading Analog Pins\n",
    "\n",
    "In the following example, we will read from the Grove Rotary Sensor, Grove Audio Sensor, and the Grove Light Sensor. The Rotary Sensor is attached to A0. The Audio Sensor is attached to A1, and the Light Sensor is attached to A2.\n",
    "\n",
    "Please note that analogRead returns a 10-bit value (from 0 to 1023). This will be important later in this notebook.\n",
    "\n",
    "We start with the Rotary Sensor. While the following cell is running, twist the Rotary Sensor to vary the output.\n"
   ]
  },
  {
   "cell_type": "code",
   "execution_count": 8,
   "metadata": {},
   "outputs": [
    {
     "name": "stdout",
     "output_type": "stream",
     "text": [
      "The rotary sensor returned 1021\n",
      "The rotary sensor returned 1021\n",
      "The rotary sensor returned 1022\n",
      "The rotary sensor returned 261\n",
      "The rotary sensor returned 0\n",
      "The rotary sensor returned 0\n",
      "The rotary sensor returned 756\n",
      "The rotary sensor returned 1023\n",
      "The rotary sensor returned 1022\n",
      "The rotary sensor returned 1023\n"
     ]
    }
   ],
   "source": [
    "for i in range(10):\n",
    "    val = board.analogRead(0)\n",
    "    print(f\"The rotary sensor returned {val}\")\n",
    "    time.sleep(1)"
   ]
  },
  {
   "cell_type": "markdown",
   "metadata": {},
   "source": [
    "Next, we read from the Audio Sensor. While the cell is running you can either talk to, or blow into the Audio Sensor to generate noise."
   ]
  },
  {
   "cell_type": "code",
   "execution_count": 9,
   "metadata": {},
   "outputs": [
    {
     "name": "stdout",
     "output_type": "stream",
     "text": [
      "The audio sensor returned 251\n",
      "The audio sensor returned 244\n",
      "The audio sensor returned 994\n",
      "The audio sensor returned 246\n",
      "The audio sensor returned 743\n",
      "The audio sensor returned 993\n",
      "The audio sensor returned 670\n",
      "The audio sensor returned 246\n",
      "The audio sensor returned 349\n",
      "The audio sensor returned 394\n"
     ]
    }
   ],
   "source": [
    "for i in range(10):\n",
    "    val = board.analogRead(1)\n",
    "    print(f\"The audio sensor returned {val}\")\n",
    "    time.sleep(1)"
   ]
  },
  {
   "cell_type": "markdown",
   "metadata": {},
   "source": [
    "Finally, we read from the Light Sensor. While the cell is running shine a bright light on the Light Sensor to vary the signal."
   ]
  },
  {
   "cell_type": "code",
   "execution_count": 10,
   "metadata": {},
   "outputs": [
    {
     "name": "stdout",
     "output_type": "stream",
     "text": [
      "The light sensor returned 758\n",
      "The light sensor returned 760\n",
      "The light sensor returned 148\n",
      "The light sensor returned 150\n",
      "The light sensor returned 760\n",
      "The light sensor returned 764\n",
      "The light sensor returned 201\n",
      "The light sensor returned 169\n",
      "The light sensor returned 707\n",
      "The light sensor returned 760\n"
     ]
    }
   ],
   "source": [
    "for i in range(10):\n",
    "    val = board.analogRead(2)\n",
    "    print(f\"The light sensor returned {val}\")\n",
    "    time.sleep(1)"
   ]
  },
  {
   "cell_type": "markdown",
   "metadata": {},
   "source": [
    "# Writing Analog Pins\n",
    "\n",
    "In this example we will write \"analog\" values to the Arduino pins. These values are not analog in a traditional sense - they are 8-bit Pulse-Width-Modulation waveforms. \n",
    "\n",
    "For more information about the analogWrite method available in Arduino see the [analogWrite](https://www.arduino.cc/en/Reference/AnalogWrite) page.\n",
    "\n",
    "On our board, we can write analog values to pins: 3, 5, 6, 9, 10, and 11. \n",
    "\n",
    "To execute the following cell connect the Grove LED Module to the Grove connector labeled D3."
   ]
  },
  {
   "cell_type": "code",
   "execution_count": 11,
   "metadata": {},
   "outputs": [],
   "source": [
    "import math\n",
    "\n",
    "for i in range(1000):\n",
    "    val = 128 * (1 + math.cos(2*math.pi * i / 100))\n",
    "    board.analogWrite(3, val)\n",
    "    time.sleep(.01)"
   ]
  },
  {
   "cell_type": "markdown",
   "metadata": {},
   "source": [
    "# Putting Devices Together\n",
    "\n",
    "In this last cell, we will use the Grove Rotary sensor to control the Grove Servo motor.\n",
    "\n",
    "Please attach the Grove Rotary Sensor to the Grove connector labeled A0, and connect the Grove Servo to the connector labeled D7.\n",
    "\n",
    "Because the Grove Rotary sensor returns values in the range 0 - 1023, and the Grove Servo can only provide angles 0 to 180, we normalize the value read from the sensor before writing it to the motor.\n",
    "\n",
    "While the cell is running, twist the rotary sensor to move the servo."
   ]
  },
  {
   "cell_type": "code",
   "execution_count": 50,
   "metadata": {},
   "outputs": [],
   "source": [
    "board.Servos.attach(7)\n",
    "\n",
    "for i in range(100):\n",
    "    val = board.analogRead(0)\n",
    "    norm = (val * 180 / 1023)\n",
    "    board.Servos.write(7, norm)\n",
    "    time.sleep(.01)\n",
    "\n",
    "board.Servos.detach(7)"
   ]
  }
 ],
 "metadata": {
  "kernelspec": {
   "display_name": "Python 3",
   "language": "python",
   "name": "python3"
  },
  "language_info": {
   "codemirror_mode": {
    "name": "ipython",
    "version": 3
   },
   "file_extension": ".py",
   "mimetype": "text/x-python",
   "name": "python",
   "nbconvert_exporter": "python",
   "pygments_lexer": "ipython3",
   "version": "3.6.0"
  }
 },
 "nbformat": 4,
 "nbformat_minor": 2
}
