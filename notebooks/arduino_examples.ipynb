{
 "cells": [
  {
   "cell_type": "markdown",
   "metadata": {},
   "source": [
    "# Using Arduino from Python\n",
    "\n",
    "Traditionally, using Arduino device requires using the Arduino IDE. However, using the [Open-Source Python-Arduino Command API](https://github.com/drichmond/Python-Arduino-Command-API/tree/py3.6_fix), we interact with the Arduino in Jupyter Notebooks. We use a modified version that works with Python 3.6: https://github.com/drichmond/Python-Arduino-Command-API\n",
    "\n",
    "\n",
    "\n",
    "First, we need to upload a sketch that will interact with Python to the Arduino device. We can do this using the makefile provided in this directory:"
   ]
  },
  {
   "cell_type": "code",
   "execution_count": 2,
   "metadata": {},
   "outputs": [
    {
     "name": "stdout",
     "output_type": "stream",
     "text": [
      "prototype.ino: In function ‘void SS_set(String)’:\n",
      "prototype.ino:189:10: warning: deleting object of polymorphic class type ‘SoftwareSerial’ which has non-virtual destructor might cause undefined behaviour [-Wdelete-non-virtual-dtor]\n",
      "   delete sserial;\n",
      "          ^\n",
      "/usr/share/arduino/hardware/arduino//cores/arduino/HardwareSerial.cpp: In function ‘void store_char(unsigned char, ring_buffer*)’:\n",
      "/usr/share/arduino/hardware/arduino//cores/arduino/HardwareSerial.cpp:100:9: warning: comparison between signed and unsigned integer expressions [-Wsign-compare]\n",
      "   if (i != buffer->tail) {\n",
      "         ^\n",
      "/usr/share/arduino/hardware/arduino//cores/arduino/HardwareSerial.cpp: In function ‘void __vector_18()’:\n",
      "/usr/share/arduino/hardware/arduino//cores/arduino/HardwareSerial.cpp:129:21: warning: unused variable ‘c’ [-Wunused-variable]\n",
      "       unsigned char c = UDR0;\n",
      "                     ^\n",
      "/usr/share/arduino/hardware/arduino//cores/arduino/HardwareSerial.cpp: In member function ‘void HardwareSerial::begin(long unsigned int, byte)’:\n",
      "/usr/share/arduino/hardware/arduino//cores/arduino/HardwareSerial.cpp:370:11: warning: unused variable ‘current_config’ [-Wunused-variable]\n",
      "   uint8_t current_config;\n",
      "           ^\n",
      "/usr/share/arduino/hardware/arduino//cores/arduino/HardwareSerial.cpp: In member function ‘virtual size_t HardwareSerial::write(uint8_t)’:\n",
      "/usr/share/arduino/hardware/arduino//cores/arduino/HardwareSerial.cpp:469:12: warning: comparison between signed and unsigned integer expressions [-Wsign-compare]\n",
      "   while (i == _tx_buffer->tail)\n",
      "            ^\n",
      "/usr/share/arduino/Arduino.mk:1432: *** Arduino port  not found!.  Stop.\n",
      "make: *** [upload] Error 2\n"
     ]
    }
   ],
   "source": [
    "!make clean upload 1> /dev/null"
   ]
  },
  {
   "cell_type": "markdown",
   "metadata": {},
   "source": [
    "# Initialization\n",
    "Test that your design has uploaded by running the following cell:"
   ]
  },
  {
   "cell_type": "code",
   "execution_count": 61,
   "metadata": {
    "collapsed": true
   },
   "outputs": [],
   "source": [
    "from Arduino import Arduino\n",
    "import time\n",
    "board = Arduino('9600', port=\"/dev/tty96B0\")"
   ]
  },
  {
   "cell_type": "markdown",
   "metadata": {
    "collapsed": true
   },
   "source": [
    "# Reading and Writing Digital Pins\n",
    "\n",
    "Now that the sketch has been uploaded, we will run through a few examples. \n",
    "\n",
    "For this example, please connect a Grove LED Module to D7 on the Sensors Mezzanine Card, and a Grove Button Module to D6. \n",
    "\n",
    "The first sub-example will turn on and off the LED."
   ]
  },
  {
   "cell_type": "code",
   "execution_count": 43,
   "metadata": {},
   "outputs": [],
   "source": [
    "board.pinMode(7, \"OUTPUT\")\n",
    "\n",
    "for i in range(10):\n",
    "    board.digitalWrite(7, \"LOW\")\n",
    "    time.sleep(1)\n",
    "    board.digitalWrite(7, \"HIGH\")\n",
    "    time.sleep(1)"
   ]
  },
  {
   "cell_type": "markdown",
   "metadata": {},
   "source": [
    "In the following sub-example, we read and report the button status 10 times, pausing 1 second between each read. "
   ]
  },
  {
   "cell_type": "code",
   "execution_count": 44,
   "metadata": {},
   "outputs": [
    {
     "name": "stdout",
     "output_type": "stream",
     "text": [
      "The BUTTON level is: 0\n",
      "The BUTTON level is: 1\n",
      "The BUTTON level is: 1\n",
      "The BUTTON level is: 0\n",
      "The BUTTON level is: 0\n",
      "The BUTTON level is: 0\n",
      "The BUTTON level is: 0\n",
      "The BUTTON level is: 0\n",
      "The BUTTON level is: 0\n",
      "The BUTTON level is: 0\n"
     ]
    }
   ],
   "source": [
    "board.pinMode(6, \"INPUT\")\n",
    "\n",
    "for i in range(10):\n",
    "    level = board.digitalRead(6)\n",
    "    print(f\"The BUTTON level is: {level}\")\n",
    "    time.sleep(1)"
   ]
  },
  {
   "cell_type": "markdown",
   "metadata": {},
   "source": [
    "More information about the Digital IO API can be found on the [Python Arduino Command API Documentation.](https://github.com/thearn/Python-Arduino-Command-API#methods)"
   ]
  },
  {
   "cell_type": "markdown",
   "metadata": {},
   "source": [
    "# Reading and Writing Analog Pins\n",
    "\n",
    "In this example, we will read from the Grove Rotary Sensors and write that value to the Grove Buzzer. Please connect a Grove Buzzer Module or Grove LED Module to D4 on the Sensors Mezzanine Card, and a Grove Rotary Sensor to A0.\n",
    "\n",
    "While the cell is running, twist the Rotary Sensor to vary the output.\n"
   ]
  },
  {
   "cell_type": "code",
   "execution_count": 53,
   "metadata": {},
   "outputs": [
    {
     "name": "stdout",
     "output_type": "stream",
     "text": [
      "0\n",
      "0\n",
      "46\n",
      "132\n",
      "0\n",
      "0\n",
      "0\n",
      "0\n",
      "0\n",
      "0\n"
     ]
    }
   ],
   "source": [
    "for i in range(10):\n",
    "    val = board.analogRead(0)\n",
    "    board.analogWrite(4, val/4)\n",
    "    time.sleep(1)"
   ]
  },
  {
   "cell_type": "markdown",
   "metadata": {},
   "source": [
    "More information about the Analog IO API can be found on the [Python Arduino Command API Documentation.](https://github.com/thearn/Python-Arduino-Command-API#methods)"
   ]
  },
  {
   "cell_type": "markdown",
   "metadata": {},
   "source": [
    "# Controlling Servo Motors\n",
    "\n",
    "In this example, we will control the rotation angle of a Grove Servo Motor using the Grove Rotarty Sensor. Please connect the Grove Servo Motor to the Grove Connector labeled D4, and the Grove Rotary Angle Sensor to A0.\n",
    "\n",
    "While the cell is running, twist the Rotary Sensor to vary the angle of the servo motor.\n"
   ]
  },
  {
   "cell_type": "code",
   "execution_count": 66,
   "metadata": {},
   "outputs": [],
   "source": [
    "board.Servos.attach(4)\n",
    "\n",
    "for i in range(300):\n",
    "    val = board.analogRead(0)\n",
    "    board.Servos.write(4, int((180.0*val)/1024))\n",
    "    val = board.Servos.read(4)\n",
    "    \n",
    "board.Servos.detach(4)"
   ]
  },
  {
   "cell_type": "markdown",
   "metadata": {},
   "source": [
    "It is important to call `detach()` whenever the servo is no longer in use.\n",
    "\n",
    "More information about the Analog IO API can be found on the [Python Arduino Command API Documentation.](https://github.com/thearn/Python-Arduino-Command-API#methods)"
   ]
  },
  {
   "cell_type": "markdown",
   "metadata": {},
   "source": [
    "# And More...\n",
    "\n",
    "The Python Arduino Command API provides methods for reading and writing to Software Serial devices, and EEPROM memory.\n",
    "\n",
    "For more examples and documentation on their GitHub Website: https://github.com/thearn/Python-Arduino-Command-API. On the website you can find information about extending the API to use I2C and SPI. "
   ]
  },
  {
   "cell_type": "code",
   "execution_count": null,
   "metadata": {
    "collapsed": true
   },
   "outputs": [],
   "source": []
  }
 ],
 "metadata": {
  "kernelspec": {
   "display_name": "Python 3",
   "language": "python",
   "name": "python3"
  },
  "language_info": {
   "codemirror_mode": {
    "name": "ipython",
    "version": 3
   },
   "file_extension": ".py",
   "mimetype": "text/x-python",
   "name": "python",
   "nbconvert_exporter": "python",
   "pygments_lexer": "ipython3",
   "version": "3.6.0"
  }
 },
 "nbformat": 4,
 "nbformat_minor": 2
}
